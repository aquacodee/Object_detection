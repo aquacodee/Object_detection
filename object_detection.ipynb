{
 "cells": [
  {
   "cell_type": "code",
   "execution_count": 1,
   "id": "90aaa972",
   "metadata": {},
   "outputs": [],
   "source": [
    "import cv2\n",
    "import numpy as np"
   ]
  },
  {
   "cell_type": "code",
   "execution_count": 3,
   "id": "f38dd67b",
   "metadata": {},
   "outputs": [],
   "source": [
    "img = cv2.imread('daud.jpg',cv2.IMREAD_COLOR)\n",
    "img1=img\n",
    "grayscaled = cv2.cvtColor(img,cv2.COLOR_BGR2GRAY)\n",
    "th = cv2.adaptiveThreshold(grayscaled, 255, cv2.ADAPTIVE_THRESH_GAUSSIAN_C, cv2.THRESH_BINARY_INV, 115, 1)\n",
    "#cv2.imshow('original',img)\n",
    "#cv2.imshow('Adaptive threshold',th)\n",
    "\n",
    "\n",
    "kernel = np.ones((5,5),np.float32)\n",
    "opening = cv2.morphologyEx(th, cv2.MORPH_OPEN, kernel)\n",
    "\n",
    "\n",
    "\n",
    "#cv2.imshow('Erosion and Dilation',dilate)\n",
    "\n",
    "\n",
    "\n",
    "#blur = cv2.GaussianBlur(opening,(7,7),0)\n",
    "#blur= cv2.medianBlur(opening,5)\n",
    "blur=cv2.bilateralFilter(opening,19,75,75)\n",
    "\n",
    "dilate=cv2.dilate(blur,kernel,iterations=1)\n",
    "\n",
    "cv2.namedWindow('Blurring',cv2.WINDOW_NORMAL)\n",
    "cv2.resizeWindow('Blurring', 800,600)\n",
    "\n",
    "edged = cv2.Canny(dilate, 50, 150) #canny edge detection\n",
    "cv2.namedWindow('Canny',cv2.WINDOW_NORMAL)\n",
    "cv2.resizeWindow('Canny', 800,600)\n",
    "cv2.imshow('Canny',edged)\n",
    "\n",
    "\n",
    "cv2.imshow('Blurring',dilate)\n",
    "\n",
    "contours, hierarchy = cv2.findContours(edged,cv2.RETR_TREE,cv2.CHAIN_APPROX_SIMPLE)\n",
    "\n",
    "\n",
    "# for contour in contours:\n",
    "# x,y,w,h = cv2.boundingRect(contour)\n",
    "# if w>50 and h>50:\n",
    "# cv2.rectangle(img1,(x,y),(x+w,y+h),(0,255,0),2)\n",
    "\n",
    "# try: hierarchy = hierarchy[0]\n",
    "# except: hierarchy = []\n",
    "\n",
    "# computes the bounding box for the contour, and draws it on the frame,\n",
    "\n",
    "\n",
    "for contour in contours:\n",
    "    epsilon = 0.01*cv2.arcLength(contour,True)\n",
    "    approx = cv2.approxPolyDP(contour,epsilon,True)\n",
    "    cv2.drawContours(img1,contour,-1,(255,0,0),4)\n",
    "    # (x,y,w,h) = cv2.boundingRect(contour)\n",
    "    # if w>80 and h>80:\n",
    "    # cv2.rectangle(img1, (x,y), (x+w,y+h), (255, 0, 0), 2)\n",
    "\n",
    "\n",
    "cv2.namedWindow('final',cv2.WINDOW_NORMAL)\n",
    "cv2.resizeWindow('final', 800,600)\n",
    "cv2.imshow('final',img1)\n",
    "cv2.waitKey(0)\n",
    "cv2.destroyAllWindows()"
   ]
  },
  {
   "cell_type": "code",
   "execution_count": null,
   "id": "a9205ddb",
   "metadata": {},
   "outputs": [],
   "source": []
  }
 ],
 "metadata": {
  "kernelspec": {
   "display_name": "Python 3 (ipykernel)",
   "language": "python",
   "name": "python3"
  },
  "language_info": {
   "codemirror_mode": {
    "name": "ipython",
    "version": 3
   },
   "file_extension": ".py",
   "mimetype": "text/x-python",
   "name": "python",
   "nbconvert_exporter": "python",
   "pygments_lexer": "ipython3",
   "version": "3.9.6"
  }
 },
 "nbformat": 4,
 "nbformat_minor": 5
}
